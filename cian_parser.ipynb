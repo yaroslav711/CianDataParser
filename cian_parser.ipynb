{
 "cells": [
  {
   "cell_type": "code",
   "execution_count": 1,
   "metadata": {},
   "outputs": [],
   "source": [
    "# cian parser \n",
    "# try on jupiter not colab "
   ]
  },
  {
   "cell_type": "code",
   "execution_count": null,
   "metadata": {},
   "outputs": [],
   "source": [
    "from selenium import webdriver\n",
    "from bs4 import BeautifulSoup\n",
    "import pandas as pd\n",
    "from tqdm import tqdm\n",
    "import numpy as np"
   ]
  },
  {
   "cell_type": "code",
   "execution_count": null,
   "metadata": {},
   "outputs": [],
   "source": [
    "driver = webdriver.Chrome('C:\\chromedriver') "
   ]
  },
  {
   "cell_type": "code",
   "execution_count": null,
   "metadata": {},
   "outputs": [],
   "source": [
    "def get_html(url, PARAMS = None): #give html code of url page\n",
    "    html = driver.page_source\n",
    "    return html\n",
    "\n",
    "def get_content(html): #give BS html code\n",
    "    soup = BeautifulSoup(html, 'html.parser')\n",
    "    items = soup.find_all('div', class_ = '_93444fe79c--container--2Kouc')\n",
    "    return items\n",
    "\n",
    "def get_urls(): #collect urls to flat \n",
    "    urls = []\n",
    "    params = ['&sort=creation_date_desc', \n",
    "              '&sort=creation_date_asc', \n",
    "              '&sort=price_object_order', \n",
    "              '&sort=total_price_desc', \n",
    "              '&sort=street_name', \n",
    "              '&sort=walking_time']\n",
    "    \n",
    "    for par in tqdm(range(len(params))):\n",
    "        param = params[par] \n",
    "        for i in range(1,55): \n",
    "            URL = driver.get(f'https://www.cian.ru/cat.php?deal_type=sale&engine_version=2&offer_type=flat&p={i}&region=1&room1=1&room2=1&room3=1&room4=1&room5=1&room6=1{param}')\n",
    "            html = get_html(URL)\n",
    "            items = get_content(html)\n",
    "            for item in items:\n",
    "                urls.append(item.find('a', class_='_93444fe79c--link--39cNw').get('href'))\n",
    "        urls = list(set(urls))\n",
    "    return urls"
   ]
  }
 ],
 "metadata": {
  "kernelspec": {
   "display_name": "Python 3",
   "language": "python",
   "name": "python3"
  },
  "language_info": {
   "codemirror_mode": {
    "name": "ipython",
    "version": 3
   },
   "file_extension": ".py",
   "mimetype": "text/x-python",
   "name": "python",
   "nbconvert_exporter": "python",
   "pygments_lexer": "ipython3",
   "version": "3.8.5"
  }
 },
 "nbformat": 4,
 "nbformat_minor": 4
}
