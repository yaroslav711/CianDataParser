{
 "cells": [
  {
   "cell_type": "code",
   "execution_count": null,
   "metadata": {},
   "outputs": [],
   "source": [
    "# cian parser \n",
    "# try on jupiter not colab "
   ]
  },
  {
   "cell_type": "code",
   "execution_count": 603,
   "metadata": {},
   "outputs": [],
   "source": [
    "from selenium import webdriver\n",
    "from bs4 import BeautifulSoup\n",
    "import pandas as pd\n",
    "from tqdm import tqdm\n",
    "import numpy as np\n",
    "import matplotlib.pyplot as plt\n",
    "from sklearn.linear_model import LinearRegression\n",
    "from sklearn.preprocessing import OneHotEncoder"
   ]
  },
  {
   "cell_type": "code",
   "execution_count": 2,
   "metadata": {},
   "outputs": [],
   "source": [
    "driver = webdriver.Chrome('C:\\chromedriver')"
   ]
  },
  {
   "cell_type": "code",
   "execution_count": 31,
   "metadata": {},
   "outputs": [],
   "source": [
    "def get_html(url, PARAMS = None): #give html code of url page\n",
    "    html = driver.page_source\n",
    "    return html\n",
    "\n",
    "def get_content(html): #give BS html code\n",
    "    soup = BeautifulSoup(html, 'html.parser')\n",
    "    items = soup.find_all('div', class_ = '_93444fe79c--container--2Kouc')\n",
    "    return items\n",
    "    \n",
    "def get_urls():  #collect urls to flat from sotred pages \n",
    "    urls = []\n",
    "    params = ['&sort=creation_date_desc', \n",
    "              '&sort=creation_date_asc', \n",
    "              '&sort=price_object_order', \n",
    "              '&sort=total_price_desc', \n",
    "              '&sort=street_name', \n",
    "              '&sort=walking_time']\n",
    "    \n",
    "    for par in tqdm(range(len(params))):\n",
    "        param = params[par] \n",
    "        for i in range(1,55): \n",
    "            URL = driver.get(f'https://www.cian.ru/cat.php?deal_type=sale&engine_version=2&offer_type=flat&p={i}&region=1&room1=1&room2=1&room3=1&room4=1&room5=1&room6=1{param}')\n",
    "            html = get_html(URL)\n",
    "            items = get_content(html)\n",
    "            for item in items:\n",
    "                urls.append(item.find('a', class_='_93444fe79c--link--39cNw').get('href'))\n",
    "        urls = list(set(urls))\n",
    "    return urls\n",
    "\n",
    "def get_data(urls): #crutch for parse all falt params \n",
    "    prices, metro, floor, max_floor, size, msize, deadline, type_, bathroom, height, repairs, view, house = [], [], [], [], [], [], [], [], [], [], [], [], []\n",
    "    garbage_chute, elevator, entrance, rooms, time = [], [], [], [], []\n",
    "    for i in tqdm(range(len(urls))):\n",
    "        url = urls[i]\n",
    "        URL = driver.get(url)\n",
    "        html = get_html(URL)\n",
    "        soup = BeautifulSoup(html, 'html.parser')\n",
    "        \n",
    "        try: \n",
    "            price = soup.find('span', class_ = 'a10a3f92e9--price_value--1iPpd').find('span').get('content')\n",
    "            prices.append(int(price.replace(' ', '').rstrip('₽')))\n",
    "        except AttributeError: prices.append(np.nan)\n",
    "            \n",
    "        try: metro.append(soup.find('a', class_ = 'a10a3f92e9--underground_link--AzxRC').get_text())\n",
    "        except AttributeError: metro.append(np.nan)\n",
    "           \n",
    "        try: time.append(int(soup.find('span', class_ = 'a10a3f92e9--underground_time--1fKft').get_text()[4:6]))\n",
    "        except AttributeError: time.append(np.nan)\n",
    "        except ValueError: time.append(np.nan)\n",
    "         \n",
    "        try: rooms.append(int(soup.find('h1', class_ = 'a10a3f92e9--title--2Widg').get_text()[:1]))\n",
    "        except ValueError: rooms.append(np.nan)\n",
    "            \n",
    "        block1 = soup.find_all('div', class_ = 'a10a3f92e9--info-value--18c8R')\n",
    "        titles1 = soup.find_all('div', class_ = 'a10a3f92e9--info-title--2bXM9')\n",
    "        \n",
    "        flag = [0,0,0,0]\n",
    "        for i in range(len(titles1)):\n",
    "            if titles1[i].get_text() == 'Общая':\n",
    "                flag[0] = 1\n",
    "                try: size.append(float(block1[i].get_text().rstrip('\\xa0м²').replace(',','.')))\n",
    "                except ValueError: size.append(np.nan)\n",
    "            elif titles1[i].get_text() == 'Жилая':\n",
    "                flag[1] = 1\n",
    "                try: msize.append(float(block1[i].get_text().rstrip('\\xa0м²').replace(',','.')))\n",
    "                except ValueError: msize.append(np.nan)\n",
    "            elif titles1[i].get_text() == 'Этаж':\n",
    "                flag[2] = 1\n",
    "                floors = block1[i].get_text().split(' из ')\n",
    "                floor.append(int(floors[0]))\n",
    "                max_floor.append(int(floors[1]))\n",
    "            elif titles1[i].get_text() == 'Построен' or titles1[i].get_text() == 'Срок сдачи':\n",
    "                flag[3] = 1\n",
    "                deadline.append(int(block1[i].get_text()[-4:]))\n",
    "        if flag[0] == 0:\n",
    "            size.append(np.nan)\n",
    "        if flag[1] == 0:\n",
    "             msize.append(np.nan)\n",
    "        if flag[2] == 0:\n",
    "            floor.append(np.nan)\n",
    "            max_floor.append(np.nan)\n",
    "        if flag[3] == 0:\n",
    "            deadline.append(np.nan)\n",
    "\n",
    "        block2 = soup.find_all('span', class_ = 'a10a3f92e9--value--3Ftu5')\n",
    "        titles2 = soup.find_all('span', class_ = 'a10a3f92e9--name--3bt8k')\n",
    "\n",
    "        flag = [0,0,0,0]\n",
    "        for i in range(len(titles2)):\n",
    "            if titles2[i].get_text() == 'Тип жилья':\n",
    "                flag[0] = 1\n",
    "                type_.append(block2[i].get_text())\n",
    "            elif titles2[i].get_text() == 'Высота потолков':\n",
    "                flag[1] = 1\n",
    "                height.append(float(block2[i].get_text().rstrip('м').replace(',','.')))\n",
    "            elif titles2[i].get_text() == 'Санузел':\n",
    "                flag[2] = 1\n",
    "                bathroom.append(block2[i].get_text())\n",
    "            elif titles2[i].get_text() == 'Вид из окон':\n",
    "                flag[3] = 1\n",
    "                view.append(block2[i].get_text())\n",
    "        if flag[0] == 0:\n",
    "            type_.append(np.nan)\n",
    "        if flag[1] == 0:\n",
    "             height.append(np.nan)\n",
    "        if flag[2] == 0:\n",
    "            bathroom.append(np.nan)\n",
    "        if flag[3] == 0:\n",
    "            view.append(np.nan)\n",
    "        \n",
    "    return prices, metro, size, msize, floor, max_floor, deadline, type_, height, bathroom, view, rooms, time"
   ]
  },
  {
   "cell_type": "code",
   "execution_count": 29,
   "metadata": {
    "scrolled": true
   },
   "outputs": [
    {
     "name": "stderr",
     "output_type": "stream",
     "text": [
      "100%|███████████████████████████████████████████████████████████████████████████████████| 6/6 [33:41<00:00, 336.90s/it]\n"
     ]
    }
   ],
   "source": [
    "urls = get_urls()"
   ]
  },
  {
   "cell_type": "code",
   "execution_count": 32,
   "metadata": {},
   "outputs": [
    {
     "name": "stderr",
     "output_type": "stream",
     "text": [
      "100%|████████████████████████████████████████████████████████████████████████████| 8090/8090 [7:53:50<00:00,  3.51s/it]\n"
     ]
    }
   ],
   "source": [
    "prices, metro, size, msize, floor, max_floor, deadline, type_, height, bathroom, view, rooms, time = get_data(urls)"
   ]
  },
  {
   "cell_type": "code",
   "execution_count": 1,
   "metadata": {
    "scrolled": true
   },
   "outputs": [
    {
     "ename": "NameError",
     "evalue": "name 'pd' is not defined",
     "output_type": "error",
     "traceback": [
      "\u001b[1;31m---------------------------------------------------------------------------\u001b[0m",
      "\u001b[1;31mNameError\u001b[0m                                 Traceback (most recent call last)",
      "\u001b[1;32m<ipython-input-1-9958d7655496>\u001b[0m in \u001b[0;36m<module>\u001b[1;34m\u001b[0m\n\u001b[0;32m      1\u001b[0m \u001b[1;31m# create pandas dataframe\u001b[0m\u001b[1;33m\u001b[0m\u001b[1;33m\u001b[0m\u001b[1;33m\u001b[0m\u001b[0m\n\u001b[1;32m----> 2\u001b[1;33m df = pd.DataFrame({ \n\u001b[0m\u001b[0;32m      3\u001b[0m     \u001b[1;34m'Ссылка'\u001b[0m \u001b[1;33m:\u001b[0m \u001b[0murls\u001b[0m\u001b[1;33m,\u001b[0m\u001b[1;33m\u001b[0m\u001b[1;33m\u001b[0m\u001b[0m\n\u001b[0;32m      4\u001b[0m     \u001b[1;34m'Метро'\u001b[0m \u001b[1;33m:\u001b[0m \u001b[0mmetro\u001b[0m\u001b[1;33m,\u001b[0m\u001b[1;33m\u001b[0m\u001b[1;33m\u001b[0m\u001b[0m\n\u001b[0;32m      5\u001b[0m     \u001b[1;34m'Время до метро'\u001b[0m \u001b[1;33m:\u001b[0m \u001b[0mtime\u001b[0m\u001b[1;33m,\u001b[0m\u001b[1;33m\u001b[0m\u001b[1;33m\u001b[0m\u001b[0m\n",
      "\u001b[1;31mNameError\u001b[0m: name 'pd' is not defined"
     ]
    }
   ],
   "source": [
    "# create pandas dataframe\n",
    "df = pd.DataFrame({ \n",
    "    'Ссылка' : urls, \n",
    "    'Метро' : metro, \n",
    "    'Время до метро' : time,\n",
    "    'Количество комнат' : rooms,\n",
    "    'Общая площадь' : size, \n",
    "    'Жилая площадь' : msize, \n",
    "    'Этаж' : floor,\n",
    "    'Этажность дома' : max_floor,\n",
    "    'Срок сдачи' : deadline,\n",
    "    'Тип жилья' : type_,\n",
    "    'Высота потолков' : height,\n",
    "    'Ванная' : bathroom,\n",
    "    'Вид из окна' : view,\n",
    "    'Цена' : prices\n",
    "    })\n",
    "df.head(3)"
   ]
  },
  {
   "cell_type": "code",
   "execution_count": null,
   "metadata": {},
   "outputs": [],
   "source": []
  }
 ],
 "metadata": {
  "kernelspec": {
   "display_name": "Python 3",
   "language": "python",
   "name": "python3"
  },
  "language_info": {
   "codemirror_mode": {
    "name": "ipython",
    "version": 3
   },
   "file_extension": ".py",
   "mimetype": "text/x-python",
   "name": "python",
   "nbconvert_exporter": "python",
   "pygments_lexer": "ipython3",
   "version": "3.8.5"
  }
 },
 "nbformat": 4,
 "nbformat_minor": 4
}
