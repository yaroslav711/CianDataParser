{
 "cells": [
  {
   "cell_type": "code",
   "execution_count": 35,
   "metadata": {},
   "outputs": [],
   "source": [
    "import pandas as pd\n",
    "import numpy as np\n",
    "import matplotlib.pyplot as plt\n",
    "from sklearn.preprocessing import LabelEncoder\n",
    "from sklearn.metrics import mean_squared_error as mse\n",
    "%matplotlib inline"
   ]
  },
  {
   "cell_type": "markdown",
   "metadata": {},
   "source": [
    "Скачиваем данные, убираем объявления с опечатками"
   ]
  },
  {
   "cell_type": "code",
   "execution_count": 36,
   "metadata": {},
   "outputs": [
    {
     "data": {
      "text/html": [
       "<div>\n",
       "<style scoped>\n",
       "    .dataframe tbody tr th:only-of-type {\n",
       "        vertical-align: middle;\n",
       "    }\n",
       "\n",
       "    .dataframe tbody tr th {\n",
       "        vertical-align: top;\n",
       "    }\n",
       "\n",
       "    .dataframe thead th {\n",
       "        text-align: right;\n",
       "    }\n",
       "</style>\n",
       "<table border=\"1\" class=\"dataframe\">\n",
       "  <thead>\n",
       "    <tr style=\"text-align: right;\">\n",
       "      <th></th>\n",
       "      <th>Ссылка</th>\n",
       "      <th>Метро</th>\n",
       "      <th>Время до метро</th>\n",
       "      <th>Количество комнат</th>\n",
       "      <th>Общая площадь</th>\n",
       "      <th>Жилая площадь</th>\n",
       "      <th>Этаж</th>\n",
       "      <th>Этажность дома</th>\n",
       "      <th>Срок сдачи</th>\n",
       "      <th>Тип жилья</th>\n",
       "      <th>Высота потолков</th>\n",
       "      <th>Ванная</th>\n",
       "      <th>Вид из окна</th>\n",
       "      <th>Цена</th>\n",
       "    </tr>\n",
       "  </thead>\n",
       "  <tbody>\n",
       "    <tr>\n",
       "      <th>0</th>\n",
       "      <td>https://www.cian.ru/sale/flat/250039498/</td>\n",
       "      <td>Международная</td>\n",
       "      <td>3.0</td>\n",
       "      <td>NaN</td>\n",
       "      <td>454.0</td>\n",
       "      <td>NaN</td>\n",
       "      <td>94</td>\n",
       "      <td>95</td>\n",
       "      <td>2017.0</td>\n",
       "      <td>Вторичка Апартаменты</td>\n",
       "      <td>NaN</td>\n",
       "      <td>1 совмещенный, 1 раздельный</td>\n",
       "      <td>На улицу</td>\n",
       "      <td>490000000</td>\n",
       "    </tr>\n",
       "    <tr>\n",
       "      <th>1</th>\n",
       "      <td>https://www.cian.ru/sale/flat/256280788/</td>\n",
       "      <td>Щукинская</td>\n",
       "      <td>5.0</td>\n",
       "      <td>NaN</td>\n",
       "      <td>560.0</td>\n",
       "      <td>325.0</td>\n",
       "      <td>4</td>\n",
       "      <td>31</td>\n",
       "      <td>2008.0</td>\n",
       "      <td>Вторичка</td>\n",
       "      <td>NaN</td>\n",
       "      <td>NaN</td>\n",
       "      <td>NaN</td>\n",
       "      <td>243300525</td>\n",
       "    </tr>\n",
       "    <tr>\n",
       "      <th>2</th>\n",
       "      <td>https://www.cian.ru/sale/flat/249890041/</td>\n",
       "      <td>Семеновская</td>\n",
       "      <td>3.0</td>\n",
       "      <td>1.0</td>\n",
       "      <td>35.4</td>\n",
       "      <td>20.0</td>\n",
       "      <td>2</td>\n",
       "      <td>9</td>\n",
       "      <td>1971.0</td>\n",
       "      <td>Вторичка</td>\n",
       "      <td>2.64</td>\n",
       "      <td>1 совмещенный</td>\n",
       "      <td>Во двор</td>\n",
       "      <td>7997000</td>\n",
       "    </tr>\n",
       "  </tbody>\n",
       "</table>\n",
       "</div>"
      ],
      "text/plain": [
       "                                     Ссылка          Метро  Время до метро  \\\n",
       "0  https://www.cian.ru/sale/flat/250039498/  Международная             3.0   \n",
       "1  https://www.cian.ru/sale/flat/256280788/      Щукинская             5.0   \n",
       "2  https://www.cian.ru/sale/flat/249890041/    Семеновская             3.0   \n",
       "\n",
       "   Количество комнат  Общая площадь  Жилая площадь  Этаж  Этажность дома  \\\n",
       "0                NaN          454.0            NaN    94              95   \n",
       "1                NaN          560.0          325.0     4              31   \n",
       "2                1.0           35.4           20.0     2               9   \n",
       "\n",
       "   Срок сдачи             Тип жилья  Высота потолков  \\\n",
       "0      2017.0  Вторичка Апартаменты              NaN   \n",
       "1      2008.0              Вторичка              NaN   \n",
       "2      1971.0              Вторичка             2.64   \n",
       "\n",
       "                        Ванная Вид из окна       Цена  \n",
       "0  1 совмещенный, 1 раздельный    На улицу  490000000  \n",
       "1                          NaN         NaN  243300525  \n",
       "2                1 совмещенный     Во двор    7997000  "
      ]
     },
     "execution_count": 36,
     "metadata": {},
     "output_type": "execute_result"
    }
   ],
   "source": [
    "df = pd.read_csv('model.csv')\n",
    "df.drop(df[df['Ссылка'] == 'https://www.cian.ru/sale/flat/253713046/'].index, inplace = True)\n",
    "df.head(3)"
   ]
  },
  {
   "cell_type": "markdown",
   "metadata": {},
   "source": [
    "Убираем из таблицы кватиры, у которых нет данных по метро, количеству комнат, типу жилья и общей площади.\n",
    "\n",
    "Работать с ними дальше было бы сложно"
   ]
  },
  {
   "cell_type": "code",
   "execution_count": 37,
   "metadata": {},
   "outputs": [],
   "source": [
    "to_drop = ['Метро', 'Количество комнат', 'Тип жилья', 'Общая площадь']\n",
    "for dr in to_drop:\n",
    "    df.drop(df[df[dr].isna()].index, inplace = True)"
   ]
  },
  {
   "cell_type": "markdown",
   "metadata": {},
   "source": [
    "Заполняем пустые ячейки параметров \"Время до метро\" и \"Высота потолков\" средним значением"
   ]
  },
  {
   "cell_type": "code",
   "execution_count": 38,
   "metadata": {},
   "outputs": [],
   "source": [
    "values = {'Время до метро': round(df['Время до метро'].mean()),\n",
    "         'Высота потолков': round(df['Высота потолков'].mean(), 1)}\n",
    "df.fillna(value = values, inplace = True)"
   ]
  },
  {
   "cell_type": "markdown",
   "metadata": {},
   "source": [
    "Заполняем пустыя ячейки параметра \"Жилая площадь\". Для этого посмотрим на среднее отношение общей площади квартиры к жилой"
   ]
  },
  {
   "cell_type": "code",
   "execution_count": 39,
   "metadata": {},
   "outputs": [],
   "source": [
    "space_mean = (df['Общая площадь']/df['Жилая площадь']).mean()\n",
    "df['Жилая площадь'].fillna(round(df[df['Жилая площадь'].isna()]['Общая площадь']/space_mean, 1), inplace = True)"
   ]
  },
  {
   "cell_type": "markdown",
   "metadata": {},
   "source": [
    "Приводим все квартиры к двум типам: Вторичка, Новостройка"
   ]
  },
  {
   "cell_type": "code",
   "execution_count": 40,
   "metadata": {},
   "outputs": [],
   "source": [
    "replace = ['Вторичка Апартаменты', 'Вторичка Пентхаус']\n",
    "for rep in replace:\n",
    "    df['Тип жилья'].replace(rep, 'Вторичка', inplace = True)\n",
    "    \n",
    "replace = ['Новостройка Апартаменты', 'Новостройка Пентхаус']\n",
    "for rep in replace:\n",
    "    df['Тип жилья'].replace(rep, 'Новостройка', inplace = True)"
   ]
  },
  {
   "cell_type": "markdown",
   "metadata": {},
   "source": [
    "Преобразуем колонку \"Ванная\" к целому типу, когда она будет хранить количество ванных в квартире"
   ]
  },
  {
   "cell_type": "code",
   "execution_count": 41,
   "metadata": {},
   "outputs": [],
   "source": [
    "import warnings\n",
    "warnings.filterwarnings(\"ignore\")\n",
    "\n",
    "df.reset_index(drop = True, inplace = True)\n",
    "\n",
    "for i in range(np.shape(df)[0]):\n",
    "    try: df['Ванная'][i] = sum(list(map(lambda x : int(x), list(filter(str.isdigit, df['Ванная'][i])))))\n",
    "    except TypeError: df['Ванная'][i] = np.nan\n",
    "    except KeyError: df['Ванная'][i] = np.nan\n",
    "        "
   ]
  },
  {
   "cell_type": "markdown",
   "metadata": {},
   "source": [
    "Для каждого найденного параметра количества ванн в квартире посчитаем среднюю площадь"
   ]
  },
  {
   "cell_type": "code",
   "execution_count": 42,
   "metadata": {},
   "outputs": [],
   "source": [
    "ratio = [-1]*np.shape(df['Ванная'].value_counts())[0]\n",
    "\n",
    "for cnt in range(np.shape(df['Ванная'].value_counts())[0]):\n",
    "    ratio[cnt] = df[df['Ванная'] == cnt + 1]['Общая площадь'].mean()"
   ]
  },
  {
   "cell_type": "markdown",
   "metadata": {},
   "source": [
    "Функция number_near будет находить ближайшее подходящее значение количества ванн для квартиры с заданной площадью"
   ]
  },
  {
   "cell_type": "code",
   "execution_count": 43,
   "metadata": {},
   "outputs": [],
   "source": [
    "def number_near(n):\n",
    "    bb = ratio.copy()\n",
    "    bb.append(n)\n",
    "    bb = sorted(bb)\n",
    "    try:\n",
    "        if abs(bb[bb.index(n)] - bb[bb.index(n)-1]) < abs(bb[bb.index(n)+1] - bb[bb.index(n)]):\n",
    "            return bb.index(n) - 1\n",
    "        else: return bb.index(n) + 1\n",
    "    except IndexError: return(bb.index(n))"
   ]
  },
  {
   "cell_type": "markdown",
   "metadata": {},
   "source": [
    "Заполняем пропуски в колонке \"Ванная\""
   ]
  },
  {
   "cell_type": "code",
   "execution_count": 44,
   "metadata": {},
   "outputs": [],
   "source": [
    "import warnings\n",
    "warnings.filterwarnings(\"ignore\")\n",
    "\n",
    "mass = df[df['Ванная'].isna()]['Общая площадь'].index\n",
    "for m in mass:\n",
    "    df['Ванная'][m] = number_near(df[df['Ванная'].isna()]['Общая площадь'][m]) "
   ]
  },
  {
   "cell_type": "markdown",
   "metadata": {},
   "source": [
    "Для начала заполним пропуски в колонке \"Вид из окна\" отсутсвием данных"
   ]
  },
  {
   "cell_type": "code",
   "execution_count": 45,
   "metadata": {},
   "outputs": [],
   "source": [
    "df['Вид из окна'].fillna('Нет информации', inplace = True)"
   ]
  },
  {
   "cell_type": "markdown",
   "metadata": {},
   "source": [
    "Посчитаем средний год сдачи для двух типов жилья и заполним пропуски в зависимости от типа квартиры"
   ]
  },
  {
   "cell_type": "code",
   "execution_count": 46,
   "metadata": {},
   "outputs": [],
   "source": [
    "mean_new = df[df['Тип жилья'] == 'Новостройка']['Срок сдачи'].mean()\n",
    "mean_old = df[df['Тип жилья'] == 'Вторичка']['Срок сдачи'].mean()"
   ]
  },
  {
   "cell_type": "markdown",
   "metadata": {},
   "source": [
    "Заполним пропуски в годах сдачи квартир"
   ]
  },
  {
   "cell_type": "code",
   "execution_count": 47,
   "metadata": {},
   "outputs": [],
   "source": [
    "import warnings\n",
    "warnings.filterwarnings(\"ignore\")\n",
    "\n",
    "vt = df[df['Тип жилья'] == 'Вторичка']\n",
    "vt['Срок сдачи'].fillna(round(mean_old), inplace = True)\n",
    "nv = df[df['Тип жилья'] == 'Новостройка']\n",
    "nv['Срок сдачи'].fillna(round(mean_new), inplace = True)\n",
    "df = pd.concat([vt, nv])"
   ]
  },
  {
   "cell_type": "markdown",
   "metadata": {},
   "source": [
    "Получили датасед без пропусков. Можем приступить к обучению моделей"
   ]
  },
  {
   "cell_type": "code",
   "execution_count": 48,
   "metadata": {},
   "outputs": [],
   "source": [
    "df.sort_values('Цена', inplace = True)\n",
    "df.reset_index(drop = True, inplace = True)\n",
    "df.drop('Ссылка', axis = 1, inplace = True)\n",
    "# df.drop('Жилая площадь', axis = 1, inplace = True)\n",
    "# df.drop('Время до метро', axis = 1, inplace = True)\n",
    "# df.drop('Этаж', axis = 1, inplace = True)"
   ]
  },
  {
   "cell_type": "markdown",
   "metadata": {},
   "source": [
    "Для кодирования фичей Метро, Тип жилья, Вид из окна потребуется кодирование. Воспользуемся lableEncoder"
   ]
  },
  {
   "cell_type": "code",
   "execution_count": 49,
   "metadata": {},
   "outputs": [],
   "source": [
    "lables = ['Метро', 'Тип жилья', 'Вид из окна']\n",
    "for label in lables:\n",
    "    le = LabelEncoder()\n",
    "    le.fit(df[label])\n",
    "    df[label] = le.transform(df[label])"
   ]
  },
  {
   "cell_type": "markdown",
   "metadata": {},
   "source": [
    "Построим гистаграмму распределение всех фичей квартиры"
   ]
  },
  {
   "cell_type": "code",
   "execution_count": 50,
   "metadata": {},
   "outputs": [
    {
     "data": {
      "text/plain": [
       "array([[<AxesSubplot:title={'center':'Метро'}>,\n",
       "        <AxesSubplot:title={'center':'Время до метро'}>,\n",
       "        <AxesSubplot:title={'center':'Количество комнат'}>],\n",
       "       [<AxesSubplot:title={'center':'Общая площадь'}>,\n",
       "        <AxesSubplot:title={'center':'Жилая площадь'}>,\n",
       "        <AxesSubplot:title={'center':'Этаж'}>],\n",
       "       [<AxesSubplot:title={'center':'Этажность дома'}>,\n",
       "        <AxesSubplot:title={'center':'Срок сдачи'}>,\n",
       "        <AxesSubplot:title={'center':'Тип жилья'}>],\n",
       "       [<AxesSubplot:title={'center':'Высота потолков'}>,\n",
       "        <AxesSubplot:title={'center':'Вид из окна'}>,\n",
       "        <AxesSubplot:title={'center':'Цена'}>]], dtype=object)"
      ]
     },
     "execution_count": 50,
     "metadata": {},
     "output_type": "execute_result"
    },
    {
     "data": {
      "image/png": "[encoded data removed]",
      "text/plain": [
       "<Figure size 432x288 with 12 Axes>"
      ]
     },
     "metadata": {
      "needs_background": "light"
     },
     "output_type": "display_data"
    }
   ],
   "source": [
    "df.hist()"
   ]
  },
  {
   "cell_type": "markdown",
   "metadata": {},
   "source": [
    "Видно, что у параметров Время до метро, Общая площадь, Жилая площадь, Этаж, Этажность дома унимодальное распределение,\n",
    "\n",
    "с которым работать не желательно. Воспользуемся boxcox для нормализации данных"
   ]
  },
  {
   "cell_type": "code",
   "execution_count": 51,
   "metadata": {},
   "outputs": [],
   "source": [
    "from scipy import stats\n",
    "for x in ['Время до метро', 'Общая площадь', 'Жилая площадь', 'Этаж', 'Этажность дома']:\n",
    "    df[x], _ = stats.boxcox(df[x])"
   ]
  },
  {
   "cell_type": "markdown",
   "metadata": {},
   "source": [
    "Построим BoxPlot'ы для каждого параметра, который мы boxcoxили"
   ]
  },
  {
   "cell_type": "code",
   "execution_count": 52,
   "metadata": {},
   "outputs": [
    {
     "data": {
      "image/png": "[encoded data removed]",
      "text/plain": [
       "<Figure size 432x288 with 4 Axes>"
      ]
     },
     "metadata": {
      "needs_background": "light"
     },
     "output_type": "display_data"
    }
   ],
   "source": [
    "plt.subplot (2, 2, 1)\n",
    "plt.boxplot(df['Этажность дома'])\n",
    "plt.title('Этажность дома')\n",
    "\n",
    "plt.subplot (2, 2, 2)\n",
    "plt.boxplot(df['Этаж'])\n",
    "plt.title('Этаж')\n",
    "\n",
    "plt.subplot (2, 2, 3)\n",
    "plt.boxplot(df['Время до метро'])\n",
    "plt.title('Время до метро')\n",
    "\n",
    "plt.subplot (2, 2, 4)\n",
    "plt.boxplot(df['Общая площадь'])\n",
    "plt.title('Общая площадь')\n",
    "plt.show()"
   ]
  },
  {
   "cell_type": "markdown",
   "metadata": {},
   "source": [
    "Преобразованные данные разобьем на обучающую и тестовую выборку, отнормируем данные на (0, 1) "
   ]
  },
  {
   "cell_type": "code",
   "execution_count": 53,
   "metadata": {},
   "outputs": [],
   "source": [
    "from sklearn.model_selection import train_test_split\n",
    "from sklearn.preprocessing import MinMaxScaler\n",
    "scaler = MinMaxScaler()\n",
    "\n",
    "X = df.drop('Цена', axis = 1)\n",
    "y = df['Цена']\n",
    "scaler.fit(X)\n",
    "X = scaler.transform(X)\n",
    "\n",
    "X_train, X_test, y_train, y_test = train_test_split(X, y, test_size = 0.1, random_state = 42)"
   ]
  },
  {
   "cell_type": "markdown",
   "metadata": {},
   "source": [
    "Обучим модель регрессии XGBoost и предскажем значения на тестовой выборке"
   ]
  },
  {
   "cell_type": "code",
   "execution_count": 54,
   "metadata": {},
   "outputs": [],
   "source": [
    "from xgboost import XGBRegressor\n",
    "regr = XGBRegressor(n_estimators = 10000, learning_rate = 0.15, random_state = 42)\n",
    "regr.fit(X_train, y_train)\n",
    "preds = regr.predict(X_test)"
   ]
  },
  {
   "cell_type": "markdown",
   "metadata": {},
   "source": [
    "Построим график распределения весов фичей"
   ]
  },
  {
   "cell_type": "code",
   "execution_count": 55,
   "metadata": {
    "scrolled": true
   },
   "outputs": [
    {
     "data": {
      "image/png": "[encoded data removed]",
      "text/plain": [
       "<Figure size 432x288 with 1 Axes>"
      ]
     },
     "metadata": {
      "needs_background": "light"
     },
     "output_type": "display_data"
    }
   ],
   "source": [
    "feature_important = regr.get_booster().get_score(importance_type='weight')\n",
    "keys = list(feature_important.keys())\n",
    "values = list(feature_important.values())\n",
    "\n",
    "dat = pd.DataFrame(data=values, index=keys, columns=[\"score\"]).sort_values(by = \"score\", ascending=False)\n",
    "dat.plot(kind='barh')\n",
    "plt.show()"
   ]
  },
  {
   "cell_type": "markdown",
   "metadata": {},
   "source": [
    "Посчитаем среднее отклонение предсказанного от настоящего значения цены"
   ]
  },
  {
   "cell_type": "code",
   "execution_count": 56,
   "metadata": {},
   "outputs": [
    {
     "data": {
      "text/plain": [
       "0.21602204734012534"
      ]
     },
     "execution_count": 56,
     "metadata": {},
     "output_type": "execute_result"
    }
   ],
   "source": [
    "y_test = list(y_test)\n",
    "errors = abs(preds[:700] - y_test[:700])\n",
    "np.mean(errors/y_test[:700])"
   ]
  },
  {
   "cell_type": "markdown",
   "metadata": {},
   "source": [
    "Сохраним веса модели для дальнейшей работы в GUI"
   ]
  },
  {
   "cell_type": "code",
   "execution_count": 57,
   "metadata": {},
   "outputs": [],
   "source": [
    "from joblib import dump\n",
    "dump(regr, 'XGBoost.joblib')"
   ]
  }
 ],
 "metadata": {
  "kernelspec": {
   "display_name": "Python 3",
   "language": "python",
   "name": "python3"
  },
  "language_info": {
   "codemirror_mode": {
    "name": "ipython",
    "version": 3
   },
   "file_extension": ".py",
   "mimetype": "text/x-python",
   "name": "python",
   "nbconvert_exporter": "python",
   "pygments_lexer": "ipython3",
   "version": "3.8.5"
  }
 },
 "nbformat": 4,
 "nbformat_minor": 4
}
